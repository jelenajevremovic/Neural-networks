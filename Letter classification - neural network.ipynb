{
 "cells": [
  {
   "cell_type": "code",
   "execution_count": 1,
   "id": "ca460399",
   "metadata": {},
   "outputs": [],
   "source": [
    "import numpy as np\n",
    "import matplotlib.pyplot as plt"
   ]
  },
  {
   "cell_type": "code",
   "execution_count": 2,
   "id": "11baadf8",
   "metadata": {},
   "outputs": [
    {
     "data": {
      "image/png": "[encoded data removed]",
      "text/plain": [
       "<Figure size 640x480 with 1 Axes>"
      ]
     },
     "metadata": {},
     "output_type": "display_data"
    },
    {
     "data": {
      "image/png": "[encoded data removed]",
      "text/plain": [
       "<Figure size 640x480 with 1 Axes>"
      ]
     },
     "metadata": {},
     "output_type": "display_data"
    },
    {
     "data": {
      "image/png": "[encoded data removed]",
      "text/plain": [
       "<Figure size 640x480 with 1 Axes>"
      ]
     },
     "metadata": {},
     "output_type": "display_data"
    }
   ],
   "source": [
    "# Creating data set   \n",
    "# A \n",
    "a = [0, 0, 1, 1, 0, 0, \n",
    "   0, 1, 0, 0, 1, 0, \n",
    "   1, 1, 1, 1, 1, 1, \n",
    "   1, 0, 0, 0, 0, 1, \n",
    "   1, 0, 0, 0, 0, 1] \n",
    "   \n",
    "# B \n",
    "b =[0, 1, 1, 1, 1, 0, \n",
    "   0, 1, 0, 0, 1, 0, \n",
    "   0, 1, 1, 1, 1, 0, \n",
    "   0, 1, 0, 0, 1, 0, \n",
    "   0, 1, 1, 1, 1, 0] \n",
    "# C \n",
    "c =[0, 1, 1, 1, 1, 0, \n",
    "   0, 1, 0, 0, 0, 0, \n",
    "   0, 1, 0, 0, 0, 0, \n",
    "   0, 1, 0, 0, 0, 0, \n",
    "   0, 1, 1, 1, 1, 0] \n",
    "  \n",
    "# Creating labels \n",
    "y =[[1, 0, 0], \n",
    "   [0, 1, 0], \n",
    "   [0, 0, 1]] \n",
    "\n",
    "# Visualizing the data, plotting A \n",
    "plt.imshow(np.array(a).reshape(5,6)) \n",
    "plt.show()\n",
    "#plt.savefig('output/legend1.png')\n",
    "\n",
    "# Visualizing the data, plotting B\n",
    "plt.imshow(np.array(b).reshape(5, 6)) \n",
    "plt.show()\n",
    "#plt.savefig('output/legend2.png')\n",
    "\n",
    "# Visualizing the data, plotting C\n",
    "plt.imshow(np.array(c).reshape(5, 6)) \n",
    "plt.show()\n",
    "#plt.savefig('output/legend3.png')\n"
   ]
  },
  {
   "cell_type": "code",
   "execution_count": 3,
   "id": "db159ba6",
   "metadata": {},
   "outputs": [
    {
     "name": "stdout",
     "output_type": "stream",
     "text": [
      "x:\n",
      " [[0 0 1 1 0 0 0 1 0 0 1 0 1 1 1 1 1 1 1 0 0 0 0 1 1 0 0 0 0 1]\n",
      " [0 1 1 1 1 0 0 1 0 0 1 0 0 1 1 1 1 0 0 1 0 0 1 0 0 1 1 1 1 0]\n",
      " [0 1 1 1 1 0 0 1 0 0 0 0 0 1 0 0 0 0 0 1 0 0 0 0 0 1 1 1 1 0]]\n",
      "\n",
      "y:\n",
      " [[1 0 0]\n",
      " [0 1 0]\n",
      " [0 0 1]]\n"
     ]
    }
   ],
   "source": [
    "# Converting data into numpy array \n",
    "x = np.array([a, b, c]) \n",
    "# Labels are also converted into NumPy array \n",
    "y = np.array(y) \n",
    "\n",
    "# Printing the variables to help in visualization\n",
    "print(\"x:\\n\", x)\n",
    "print(\"\\ny:\\n\", y)"
   ]
  },
  {
   "cell_type": "code",
   "execution_count": 4,
   "id": "f2a78b54",
   "metadata": {},
   "outputs": [
    {
     "data": {
      "text/plain": [
       "(3, 30)"
      ]
     },
     "execution_count": 4,
     "metadata": {},
     "output_type": "execute_result"
    }
   ],
   "source": [
    "x.shape"
   ]
  },
  {
   "cell_type": "code",
   "execution_count": 5,
   "id": "4e1cf5a6",
   "metadata": {},
   "outputs": [
    {
     "data": {
      "text/plain": [
       "(3, 3)"
      ]
     },
     "execution_count": 5,
     "metadata": {},
     "output_type": "execute_result"
    }
   ],
   "source": [
    "y.shape"
   ]
  },
  {
   "cell_type": "code",
   "execution_count": 6,
   "id": "514a045c",
   "metadata": {},
   "outputs": [
    {
     "name": "stdout",
     "output_type": "stream",
     "text": [
      "\n",
      "Features:\n",
      " [[0 0 1 1 0 0 0 1 0 0 1 0 1 1 1 1 1 1 1 0 0 0 0 1 1 0 0 0 0 1]\n",
      " [0 1 1 1 1 0 0 1 0 0 1 0 0 1 1 1 1 0 0 1 0 0 1 0 0 1 1 1 1 0]\n",
      " [0 1 1 1 1 0 0 1 0 0 0 0 0 1 0 0 0 0 0 1 0 0 0 0 0 1 1 1 1 0]]\n",
      "\n",
      "Labels:\n",
      " [[1 0 0]\n",
      " [0 1 0]\n",
      " [0 0 1]]\n",
      "\n",
      " Number of nodes in the input layer: 30\n",
      "\n",
      " Number of nodes in the first hidden layer: 5\n",
      "\n",
      " Number of nodes in the second hidden layer: 4\n",
      "\n",
      " Shape of weights in the first hidden layer: (30, 5)\n",
      "\n",
      " Shape of weights in the second hidden layer: (5, 4)\n",
      "\n",
      " Shape of bias in the first hidden layer: (1, 5)\n",
      "\n",
      " Shape of bias in the second hidden layer: (1, 4)\n",
      "\n",
      " Learning rate: 0.01\n",
      "\n",
      " Epochs: 1000\n"
     ]
    }
   ],
   "source": [
    "np.random.seed(42) # seed function to generate the same random value\n",
    "n_x = 30\n",
    "n_h1 = 5\n",
    "n_h2 = 4\n",
    "n_y = 3\n",
    "w1 = np.random.randn(n_x, n_h1)\n",
    "w2 = np.random.randn(n_h1, n_h2)\n",
    "w3 = np.random.randn(n_h2, n_y)\n",
    "b1 = np.zeros((1, n_h1))\n",
    "b2 = np.zeros((1, n_h2))\n",
    "b3 = np.zeros((1, n_y))\n",
    "learning_rate = 0.01\n",
    "epochs = 1000\n",
    "\n",
    "print(\"\\nFeatures:\\n\", x)\n",
    "print(\"\\nLabels:\\n\", y)\n",
    "print(\"\\n Number of nodes in the input layer:\", n_x)\n",
    "print(\"\\n Number of nodes in the first hidden layer:\", n_h1)\n",
    "print(\"\\n Number of nodes in the second hidden layer:\", n_h2)\n",
    "print(\"\\n Shape of weights in the first hidden layer:\", w1.shape)\n",
    "print(\"\\n Shape of weights in the second hidden layer:\", w2.shape)\n",
    "print(\"\\n Shape of bias in the first hidden layer:\", b1.shape)\n",
    "print(\"\\n Shape of bias in the second hidden layer:\", b2.shape)\n",
    "print(\"\\n Learning rate:\", learning_rate)\n",
    "print(\"\\n Epochs:\", epochs)"
   ]
  },
  {
   "cell_type": "code",
   "execution_count": 7,
   "id": "22ede32c",
   "metadata": {},
   "outputs": [],
   "source": [
    "#print(\"w1 = \", w1)\n",
    "#print('Shape of w1', w1.shape)\n",
    "#print(\"b1 = \", b1)\n",
    "#print(\"*********************\")    \n",
    "#print(\"w2 = \", w2)\n",
    "#print(\"b2 = \", b2)\n",
    "#print(\"**********************\")      \n",
    "#print(\"w3 = \", w3)\n",
    "#print(\"b3 = \", b3)"
   ]
  },
  {
   "cell_type": "code",
   "execution_count": 8,
   "id": "d2610913",
   "metadata": {},
   "outputs": [],
   "source": [
    "def softmax(x):\n",
    "    \"\"\"Compute softmax values for each sets of scores in x.\"\"\"\n",
    "    return np.exp(x)/np.sum(np.exp(x),axis=0)\n",
    "\n",
    "def sigmoid(x):\n",
    "    return 1/(1+ np.exp(x))\n",
    "\n",
    "def forward_propagation(x, w1, w2, w3, b1, b2, b3):\n",
    "    \"\"\" Compute forward propagation algorithm with 2 hidden layers\"\"\"\n",
    "    n_h1 = np.dot(x, w1) + b1\n",
    "    out_h1 = sigmoid(n_h1)\n",
    "    n_h2 = np.dot(out_h1, w2) + b2\n",
    "    out_h2 = sigmoid(n_h2)\n",
    "    n_y = np.dot(out_h2, w3)\n",
    "    out_y = softmax(n_y)\n",
    "    return out_h1, out_h2, out_y\n",
    "\n",
    "def backpropagation(y, out_y, out_h2, out_h1, w3, w2, x):\n",
    "    \"\"\"Compute the backforward propagation algorithm for the 3-layerd\n",
    "    neurak network and returns the gradients of weights and biases\"\"\"\n",
    "    \n",
    "    # Back propagating error from output to second hidden layer\n",
    "    l3_error = out_y - y  # Calculating error at layer 3\n",
    "    dw3 = np.dot(out_h2.T, l3_error) # Change in weights at layer 3\n",
    "    db3 = np.sum(l3_error, axis=0, keepdims = True) # Change in bias at layer 3\n",
    "    \n",
    "    # Back propagating error from second hidden layer to first hidden layer\n",
    "    dh_2 = np.dot(w3, l3_error)\n",
    "    l2_error = np.multiply(dh_2.T, out_h2*(1-out_h2)) # Calculate error at layer 2\n",
    "    dw2 = np.dot(out_h1.T, l2_error) # Change in weights at layer 2\n",
    "    db2 = np.sum(l2_error, axis = 0, keepdims = True) # Change in bias at layer 2\n",
    "    \n",
    "    # Back propagating error from first hidden layer to input layer\n",
    "    dh_1 = np.dot(w2, l2_error.T)\n",
    "    l1_error = np.multiply(dh_1.T, out_h1 *(1-out_h1)) # Calculating error at layer 1\n",
    "    dw1 = np.dot(x.T, l1_error) # Change in weights at layer 1\n",
    "    db1 = np.sum(l1_error, axis = 0, keepdims = True) # Change in bias at layer 1\n",
    "    \n",
    "    return dw1, db1, dw2, db2, dw3, db3\n",
    "\n",
    "\n",
    "def update_parameters(w1, dw1, b1, db1, w2, dw2, b2, db2, w3, dw3, b3, db3, learning_rate):\n",
    "    w1 = w1 - learning_rate * dw1\n",
    "    b1 = b1 - learning_rate * db1\n",
    "    \n",
    "    w2 = w2 - learning_rate * dw2\n",
    "    b2 = b2 - learning_rate * db2\n",
    "    \n",
    "    w3 = w3 - learning_rate * dw3\n",
    "    b3 = b3 - learning_rate * db3\n",
    "    return w1, b1, w2, b2, w3, b3\n",
    "\n",
    "def calculate_error(y, y_predicted):\n",
    "    losses = np.sum(-y * np.log(y_predicted) - (1 - y)* np.log(1-y_predicted))\n",
    "    return losses\n",
    "\n",
    "def train(x, y, w1, w2, w3, b1, b2, b3, epochs, learning_rate):\n",
    "    \"\"\"Train the 3 layered neural network\"\"\"\n",
    "    losses = np.zeros((epochs, 1))\n",
    "    for i in range(epochs):\n",
    "        out_h1, out_h2, out_y = forward_propagation(x, w1, w2, w3, b1, b2, b3)\n",
    "        losses [i, 0] = calculate_error(y, out_y)\n",
    "        dw1, db1, dw2, db2, dw3, db3 = backpropagation(y, out_y, out_h2, out_h1, w3, w2, x)\n",
    "        w1, b1, w2, b2, w3, b3 = update_parameters(w1, dw1, b1, db1, w2, dw2, b2, db2, w3, dw3, b3, db3, learning_rate)\n",
    "\n",
    "    return w1, b1, w2, b2, w3, b3, losses "
   ]
  },
  {
   "cell_type": "code",
   "execution_count": 9,
   "id": "b7d830a0",
   "metadata": {},
   "outputs": [
    {
     "data": {
      "image/png": "[encoded data removed]",
      "text/plain": [
       "<Figure size 640x480 with 1 Axes>"
      ]
     },
     "metadata": {},
     "output_type": "display_data"
    }
   ],
   "source": [
    "\n",
    "# Train the neural network\n",
    "w1, b1, w2, b2, w3, b3, losses = train(x, y, w1, w2, w3, b1, b2, b3, epochs, learning_rate)\n",
    "# Evaluating the performance \n",
    "plt.figure() \n",
    "plt.plot(losses) \n",
    "plt.xlabel(\"EPOCHS\") \n",
    "plt.ylabel(\"Loss value\") \n",
    "plt.show() \n"
   ]
  },
  {
   "cell_type": "code",
   "execution_count": 10,
   "id": "1313567f",
   "metadata": {},
   "outputs": [
    {
     "data": {
      "image/png": "[encoded data removed]",
      "text/plain": [
       "<Figure size 640x480 with 1 Axes>"
      ]
     },
     "metadata": {},
     "output_type": "display_data"
    },
    {
     "name": "stdout",
     "output_type": "stream",
     "text": [
      "softmax output: [[1. 1. 1.]]\n",
      "Highest value of index: 0\n"
     ]
    },
    {
     "data": {
      "image/png": "[encoded data removed]",
      "text/plain": [
       "<Figure size 640x480 with 1 Axes>"
      ]
     },
     "metadata": {},
     "output_type": "display_data"
    }
   ],
   "source": [
    "A = x[0] # pixel values for letter A\n",
    "B = x[1] # pixel values for letter B\n",
    "C = x[2] # pixel values for letter C\n",
    "\n",
    "def predict(letter, x):\n",
    "    \"\"\"Computes predictions on the trained weights and bias\"\"\"\n",
    "    out_h1, out_h2, out_y = forward_propagation(letter, w1, w2, w3, b1, b2, b3)\n",
    "    print(\"softmax output:\", out_y)\n",
    "    prediction = np.where(out_y == np.amax(out_y)) # returns the maximum value of array\n",
    "    print(\"Highest value of index:\", prediction[1][0]) \n",
    "    # plot the predicted label\n",
    "    plt.xlabel(\"Predicted label\") \n",
    "    plt.imshow(x[prediction[1][0]].reshape(5, 6)) \n",
    "    plt.show()\n",
    "    \n",
    "\n",
    "letter = A\n",
    "# printing the target label\n",
    "plt.imshow(letter.reshape(5, 6)) \n",
    "plt.xlabel(\"Target label\") \n",
    "plt.show() \n",
    "\n",
    "predict(letter, x)   "
   ]
  },
  {
   "cell_type": "code",
   "execution_count": 11,
   "id": "92369ccf",
   "metadata": {},
   "outputs": [
    {
     "data": {
      "image/png": "[encoded data removed]",
      "text/plain": [
       "<Figure size 640x480 with 1 Axes>"
      ]
     },
     "metadata": {},
     "output_type": "display_data"
    },
    {
     "name": "stdout",
     "output_type": "stream",
     "text": [
      "softmax output: [[1. 1. 1.]]\n",
      "Highest value of index: 0\n"
     ]
    },
    {
     "data": {
      "image/png": "[encoded data removed]",
      "text/plain": [
       "<Figure size 640x480 with 1 Axes>"
      ]
     },
     "metadata": {},
     "output_type": "display_data"
    }
   ],
   "source": [
    "letter = B\n",
    "# printing the target label\n",
    "plt.imshow(letter.reshape(5, 6)) \n",
    "plt.xlabel(\"Target label\") \n",
    "plt.show() \n",
    "\n",
    "predict(letter, x) "
   ]
  },
  {
   "cell_type": "code",
   "execution_count": 12,
   "id": "ce69d639",
   "metadata": {},
   "outputs": [
    {
     "data": {
      "image/png": "[encoded data removed]",
      "text/plain": [
       "<Figure size 640x480 with 1 Axes>"
      ]
     },
     "metadata": {},
     "output_type": "display_data"
    },
    {
     "name": "stdout",
     "output_type": "stream",
     "text": [
      "softmax output: [[1. 1. 1.]]\n",
      "Highest value of index: 0\n"
     ]
    },
    {
     "data": {
      "image/png": "[encoded data removed]",
      "text/plain": [
       "<Figure size 640x480 with 1 Axes>"
      ]
     },
     "metadata": {},
     "output_type": "display_data"
    }
   ],
   "source": [
    "letter = C\n",
    "# printing the target label\n",
    "plt.imshow(letter.reshape(5, 6)) \n",
    "plt.xlabel(\"Target label\") \n",
    "plt.show() \n",
    "\n",
    "predict(letter, x) "
   ]
  },
  {
   "cell_type": "code",
   "execution_count": 13,
   "id": "c2999f92",
   "metadata": {},
   "outputs": [],
   "source": [
    "#a, b, c = forward_propagation(x, w1, w2, w3, b1, b2, b3)"
   ]
  },
  {
   "cell_type": "code",
   "execution_count": 14,
   "id": "55de7c69",
   "metadata": {},
   "outputs": [],
   "source": [
    "#print(\"First Hidden layer output:\\n\", a)\n",
    "#print(\"Second Hidden layer output:\\n\", b)\n",
    "#print(\"Output layer:\\n\", c)"
   ]
  },
  {
   "cell_type": "code",
   "execution_count": 15,
   "id": "6d7937aa",
   "metadata": {},
   "outputs": [],
   "source": [
    "#out_h1, out_h2, out_y = forward_propagation(x, w1, w2, w3, b1, b2, b3)\n",
    "#dw1, db1, dw2, db2, dw3, db3 = backpropagation(y, out_y, out_h2, out_h1, w3, w2, x)\n",
    "#print(\"dW1:\\n\",dw1, \"\\ndw2:\\n\", dw2, \"\\ndW3:\\n\", dw3, \"\\ndb1:\\n\", db1, \"\\ndb2:\\n\", db2, \"\\ndb3:\\n\", db3)"
   ]
  },
  {
   "cell_type": "code",
   "execution_count": null,
   "id": "8d4f91be",
   "metadata": {},
   "outputs": [],
   "source": []
  },
  {
   "cell_type": "code",
   "execution_count": null,
   "id": "8638f8fb",
   "metadata": {},
   "outputs": [],
   "source": []
  },
  {
   "cell_type": "code",
   "execution_count": null,
   "id": "942ebedd",
   "metadata": {},
   "outputs": [],
   "source": []
  },
  {
   "cell_type": "code",
   "execution_count": null,
   "id": "1d4003de",
   "metadata": {},
   "outputs": [],
   "source": []
  },
  {
   "cell_type": "code",
   "execution_count": null,
   "id": "c298920c",
   "metadata": {},
   "outputs": [],
   "source": []
  },
  {
   "cell_type": "code",
   "execution_count": null,
   "id": "29a6e232",
   "metadata": {},
   "outputs": [],
   "source": []
  },
  {
   "cell_type": "code",
   "execution_count": null,
   "id": "fd1e30f5",
   "metadata": {},
   "outputs": [],
   "source": []
  },
  {
   "cell_type": "code",
   "execution_count": null,
   "id": "64858904",
   "metadata": {},
   "outputs": [],
   "source": []
  }
 ],
 "metadata": {
  "kernelspec": {
   "display_name": "Python 3 (ipykernel)",
   "language": "python",
   "name": "python3"
  },
  "language_info": {
   "codemirror_mode": {
    "name": "ipython",
    "version": 3
   },
   "file_extension": ".py",
   "mimetype": "text/x-python",
   "name": "python",
   "nbconvert_exporter": "python",
   "pygments_lexer": "ipython3",
   "version": "3.10.8"
  }
 },
 "nbformat": 4,
 "nbformat_minor": 5
}
