{
 "cells": [
  {
   "cell_type": "markdown",
   "id": "de2c0839",
   "metadata": {},
   "source": [
    "## Coding the Perceptron Forward Propagation"
   ]
  },
  {
   "cell_type": "code",
   "execution_count": 1,
   "id": "9033f82a",
   "metadata": {},
   "outputs": [],
   "source": [
    "import numpy as np"
   ]
  },
  {
   "cell_type": "code",
   "execution_count": 2,
   "id": "cb51a6ad",
   "metadata": {},
   "outputs": [],
   "source": [
    "def step(weighted_sum):\n",
    "    \"\"\"\n",
    "    The step activation is applied to the perceptron output that\n",
    "    returns 0 if the weighted sum is less than 0 and 1 otherwise \n",
    "    \"\"\"\n",
    "    if (weighted_sum) < 0:\n",
    "        return 0\n",
    "    return 1"
   ]
  },
  {
   "cell_type": "code",
   "execution_count": 3,
   "id": "d46f5e0d",
   "metadata": {},
   "outputs": [],
   "source": [
    "def forward_propagation(input_data, weights, bias):\n",
    "    \"\"\"\n",
    "    Computes the forward propagation operation of a perceptron \n",
    "    and return the output after applying the step activation function\n",
    "    \"\"\"\n",
    "    weighted_sum = 0\n",
    "    for i in range(len(input_data)):\n",
    "        weighted_sum = weighted_sum + input_data[i]* weights[i]\n",
    "    return step(weighted_sum + bias)"
   ]
  },
  {
   "cell_type": "code",
   "execution_count": 4,
   "id": "5b65dac2",
   "metadata": {},
   "outputs": [
    {
     "name": "stdout",
     "output_type": "stream",
     "text": [
      "Input data x:  [2, 3]\n",
      "Output label :  0\n",
      "Predicted label: 1\n"
     ]
    }
   ],
   "source": [
    "data = [2, 3, 0] # declaring two data points\n",
    "weights = [2.0, 3.0] # weights of perceptron\n",
    "bias = 0.1 # bias value\n",
    "x = data[:2] # input values\n",
    "actual_label = data[-1] # output label\n",
    "print(\"Input data x: \", x)\n",
    "print(\"Output label : \", actual_label)\n",
    "predicted_label = forward_propagation(x, weights, bias) # predicted label\n",
    "print(\"Predicted label:\", predicted_label)"
   ]
  },
  {
   "cell_type": "code",
   "execution_count": 5,
   "id": "26f05825",
   "metadata": {},
   "outputs": [],
   "source": [
    "def step_1(weighted_sum):\n",
    "    return (weighted_sum > 0)* 1"
   ]
  },
  {
   "cell_type": "code",
   "execution_count": 6,
   "id": "4543ca30",
   "metadata": {},
   "outputs": [],
   "source": [
    "def forward_propagation_1(input_data, weights, bias):\n",
    "    return step_1(np.dot(input_data, weights) + bias)"
   ]
  },
  {
   "cell_type": "code",
   "execution_count": 7,
   "id": "7f758709",
   "metadata": {},
   "outputs": [
    {
     "name": "stdout",
     "output_type": "stream",
     "text": [
      "Input data X =  [2 3]\n",
      "Output label Y =  [0]\n",
      "Predicted label:  1\n"
     ]
    }
   ],
   "source": [
    "X = np.array([2,3])\n",
    "Y = np.array([0])\n",
    "weights = np.array([2.0, 3.0])\n",
    "bias = 0.1\n",
    "Y_predicted = forward_propagation_1(X,weights.T, bias)\n",
    "print(\"Input data X = \", X)\n",
    "print(\"Output label Y = \", Y)\n",
    "print(\"Predicted label: \", Y_predicted)"
   ]
  },
  {
   "cell_type": "code",
   "execution_count": 8,
   "id": "10a9c9e1",
   "metadata": {},
   "outputs": [
    {
     "name": "stdout",
     "output_type": "stream",
     "text": [
      "Input data X =  [2 3]\n",
      "Output label Y =  [0]\n",
      "Predicted label:  1\n"
     ]
    }
   ],
   "source": [
    "X = np.array([2,3])\n",
    "Y = np.array([0])\n",
    "weights_1 = np.array([1.0, -1.0])\n",
    "bias = 0.1\n",
    "Y_predicted = forward_propagation_1(X,weights.T, bias)\n",
    "print(\"Input data X = \", X)\n",
    "print(\"Output label Y = \", Y)\n",
    "print(\"Predicted label: \", Y_predicted)"
   ]
  },
  {
   "cell_type": "markdown",
   "id": "6077bc11",
   "metadata": {},
   "source": [
    "## Use the Sigmoid Activation Function"
   ]
  },
  {
   "cell_type": "code",
   "execution_count": 9,
   "id": "e5d3f567",
   "metadata": {},
   "outputs": [],
   "source": [
    "def sigmoid(x):\n",
    "    return 1/(1 + np.exp(-x))"
   ]
  },
  {
   "cell_type": "code",
   "execution_count": 10,
   "id": "f9bcfe38",
   "metadata": {},
   "outputs": [],
   "source": [
    "def forward_propagation_sigmoid(input_data, weights, bias):\n",
    "    return sigmoid(np.dot(input_data, weights) + bias)"
   ]
  },
  {
   "cell_type": "code",
   "execution_count": 11,
   "id": "904d6ff7",
   "metadata": {},
   "outputs": [
    {
     "name": "stdout",
     "output_type": "stream",
     "text": [
      "Input data X =  [2 3]\n",
      "Output label Y =  [0]\n",
      "Predicted label using sigmoid activation function:  1\n"
     ]
    }
   ],
   "source": [
    "sigmoid_predicted_label = forward_propagation_sigmoid(X, weights.T, bias)\n",
    "print(\"Input data X = \", X)\n",
    "print(\"Output label Y = \", Y)\n",
    "Y_predicted = (sigmoid_predicted_label > 0.5) *1\n",
    "print(\"Predicted label using sigmoid activation function: \",Y_predicted)"
   ]
  },
  {
   "cell_type": "markdown",
   "id": "5b54fe51",
   "metadata": {},
   "source": [
    "## The Error Function\n",
    "* MSE:  $E =\\dfrac{1}{2}(y - y^{'})$\n",
    "* CE : $E = -y* \\log(y^{'}) - (1-y)*\\log(1-y^{'})$"
   ]
  },
  {
   "cell_type": "code",
   "execution_count": 12,
   "id": "3bb3f9cd",
   "metadata": {},
   "outputs": [],
   "source": [
    "def calculate_error(y, y_predicted):\n",
    "    \"\"\"Computes the binary cross entropy error\"\"\"\n",
    "    return -y* np.log(y_predicted) - (1-y) * np.log(1- y_predicted)"
   ]
  },
  {
   "cell_type": "code",
   "execution_count": 13,
   "id": "b8929ede",
   "metadata": {},
   "outputs": [
    {
     "name": "stdout",
     "output_type": "stream",
     "text": [
      "Input data X =  [2 3]\n",
      "Output label Y =  [0]\n",
      "Predicted label using sigmoid activation function:  0.9999979547735586\n",
      "Error:  [13.10000205]\n"
     ]
    }
   ],
   "source": [
    "X = np.array([2,3])\n",
    "weights = np.array([2.0, 3.0])\n",
    "Y = np.array([0])\n",
    "Y_predicted = forward_propagation_sigmoid(X, weights.T, bias)\n",
    "error = calculate_error(Y, Y_predicted)\n",
    "print(\"Input data X = \", X)\n",
    "print(\"Output label Y = \", Y)\n",
    "print(\"Predicted label using sigmoid activation function: \",Y_predicted)\n",
    "print(\"Error: \", error)"
   ]
  },
  {
   "cell_type": "markdown",
   "id": "57d08b42",
   "metadata": {},
   "source": [
    "## Scaling Error Up to Multiple Data Points"
   ]
  },
  {
   "cell_type": "code",
   "execution_count": 14,
   "id": "775587c0",
   "metadata": {},
   "outputs": [],
   "source": [
    "X = np.array([[2,3], [1,4], [-1,-3], [-4,-5]])\n",
    "Y = np.array([1.0, 1.0, 0.0, 0.0])\n",
    "weights_0 = np.array([0.0, 0.0])\n",
    "weights_1 = np.array([1.0, -1.0])\n",
    "bias = 0.0"
   ]
  },
  {
   "cell_type": "code",
   "execution_count": 15,
   "id": "92375bc7",
   "metadata": {},
   "outputs": [],
   "source": [
    "def ce_two_different_weights(X, Y, weights_0, weights_1, bias):\n",
    "    sum_error_1 = 0\n",
    "    sum_error_2 = 0\n",
    "    for i in range(len(X)):\n",
    "        Y_prediction_1 = forward_propagation_sigmoid(X[i], weights_0.T, bias)\n",
    "        sum_error_1  = sum_error_1 +  calculate_error(Y[i], Y_prediction_1)\n",
    "        Y_prediction_2 = forward_propagation_sigmoid(X[i], weights_1.T, bias)\n",
    "        sum_error_2 = sum_error_2 +  calculate_error(Y[i], Y_prediction_2)\n",
    "    return sum_error_1, sum_error_2\n",
    "    "
   ]
  },
  {
   "cell_type": "code",
   "execution_count": 16,
   "id": "014bd089",
   "metadata": {},
   "outputs": [],
   "source": [
    "sum_error1, sum_error2 = ce_two_different_weights(X,Y, weights_0, weights_1, bias)"
   ]
  },
  {
   "cell_type": "code",
   "execution_count": 17,
   "id": "c62e05e6",
   "metadata": {},
   "outputs": [
    {
     "name": "stdout",
     "output_type": "stream",
     "text": [
      "Sum error_1 =  2.772588722239781 \n",
      "Sum error_2 =  7.802038737653159\n"
     ]
    }
   ],
   "source": [
    "print(\"Sum error_1 = \",sum_error1, \"\\nSum error_2 = \", sum_error2 )"
   ]
  },
  {
   "cell_type": "code",
   "execution_count": 18,
   "id": "dec9560f",
   "metadata": {},
   "outputs": [
    {
     "name": "stdout",
     "output_type": "stream",
     "text": [
      "0 [2 3] [0. 0.]\n",
      "1 [1 4] [0. 0.]\n",
      "2 [-1 -3] [0. 0.]\n",
      "3 [-4 -5] [0. 0.]\n"
     ]
    }
   ],
   "source": [
    "for i in range(len(X)):\n",
    "    print(i, X[i], weights_0.T)"
   ]
  },
  {
   "cell_type": "code",
   "execution_count": 19,
   "id": "777b65a2",
   "metadata": {},
   "outputs": [
    {
     "name": "stdout",
     "output_type": "stream",
     "text": [
      " For i = 0 0.5\n",
      "0.6931471805599453\n",
      "***************\n",
      " For i = 1 0.5\n",
      "1.3862943611198906\n",
      "***************\n",
      " For i = 2 0.5\n",
      "2.0794415416798357\n",
      "***************\n",
      " For i = 3 0.5\n",
      "2.772588722239781\n",
      "***************\n",
      "****************\n",
      "2.772588722239781\n"
     ]
    }
   ],
   "source": [
    "sum_error_1 = 0\n",
    "for i in range(len(X)):\n",
    "    Y_prediction_1 = forward_propagation_sigmoid(X[i], weights_0.T, bias)\n",
    "    sum_error_1 +=  calculate_error(Y[i], Y_prediction_1)\n",
    "    print(\" For i =\", i, Y_prediction_1)\n",
    "    print(sum_error_1)\n",
    "    print(\"***************\")\n",
    "print(\"****************\")\n",
    "print(sum_error_1)"
   ]
  },
  {
   "cell_type": "markdown",
   "id": "a6606996",
   "metadata": {},
   "source": [
    "## Gradient Descent: The Stochastic Update"
   ]
  },
  {
   "cell_type": "code",
   "execution_count": 20,
   "id": "c08c503e",
   "metadata": {},
   "outputs": [],
   "source": [
    "def gradient(target, actual, X):\n",
    "    \"\"\"Gradient of weights amd bias\"\"\"\n",
    "    dW = -(target - actual)* X\n",
    "    db = target - actual\n",
    "    return dW, db\n",
    "\n",
    "def update_parameters(W, b, dW, db, learning_rate):\n",
    "    \"\"\"Udating the weights and bias value\"\"\"\n",
    "    W = W - dW * learning_rate\n",
    "    b = b - db * learning_rate\n",
    "    return W, b\n",
    "\n",
    "def train_stoch(X, Y, weights, bias, epochs, learning_rate):\n",
    "    \"\"\"Training the perceptron using stochastic update\"\"\"\n",
    "    sum_error = 0.0\n",
    "    for j in range(epochs): # outer loop iterates epochs times\n",
    "        for i in range(len(X)): # inner loop iterates lengh of X\n",
    "            Y_predicted = forward_propagation_sigmoid(X[i], weights.T, bias)\n",
    "            sum_error += calculate_error(Y[i], Y_predicted)\n",
    "            dW, db = gradient(Y[i], Y_predicted, X[i])\n",
    "            weights, bias = update_parameters(weights, bias, dW, db, learning_rate)\n",
    "        print(\"Epochs: \", j, \"error: \", sum_error)\n",
    "        sum_error = 0 # re-intialize sum error at the end of each epoch\n",
    "    return weights, bias"
   ]
  },
  {
   "cell_type": "code",
   "execution_count": 21,
   "id": "0c6c8c7e",
   "metadata": {},
   "outputs": [
    {
     "name": "stdout",
     "output_type": "stream",
     "text": [
      "Before training\n",
      "weights: [0. 0.] bias: 0.0\n"
     ]
    }
   ],
   "source": [
    "X = np.array([[2.78, 2.55], [1.46, 2.36], [3.39, 4.40], [1.38, 1.85], [3.06, 3.00],\n",
    "              [7.62, 2.75], [5.33, 2.08], [6.92, 1.77], [8.67, -0.24], [7.67, 3.50]])\n",
    "\n",
    "Y = np.array([0, 0, 0, 0, 0, 1, 1, 1, 1, 1]) # actual label\n",
    "weights = np.array([0.0, 0.0]) # weights of perceptron\n",
    "bias = 0.0 # bias value\n",
    "learning_rate = 0.1 # learning rate\n",
    "epochs = 10 # set epochs\n",
    "print(\"Before training\")\n",
    "print(\"weights:\", weights, \"bias:\", bias)"
   ]
  },
  {
   "cell_type": "code",
   "execution_count": 22,
   "id": "81845e6f",
   "metadata": {},
   "outputs": [
    {
     "name": "stdout",
     "output_type": "stream",
     "text": [
      "Epochs:  0 error:  5.679604226090772\n",
      "Epochs:  1 error:  4.96759476005953\n",
      "Epochs:  2 error:  3.695900221259798\n",
      "Epochs:  3 error:  2.7732748505550413\n",
      "Epochs:  4 error:  2.231288532231135\n",
      "Epochs:  5 error:  1.8932337546645215\n",
      "Epochs:  6 error:  1.6576875792330534\n",
      "Epochs:  7 error:  1.4807754877217856\n",
      "Epochs:  8 error:  1.3409460490775325\n",
      "Epochs:  9 error:  1.226594549088747\n",
      "\n",
      "After training\n",
      "weights: [ 1.11386212 -1.82269816] bias: 0.7284723226201547\n",
      "Target labels:   [0 0 0 0 0 1 1 1 1 1]\n",
      "Predicted label: [0 0 0 0 0 1 1 1 1 1]\n"
     ]
    }
   ],
   "source": [
    "weights, bias = train_stoch(X, Y, weights, bias, epochs, learning_rate) # train the function\n",
    "\n",
    "print(\"\\nAfter training\")\n",
    "print(\"weights:\", weights, \"bias:\", bias)\n",
    "\n",
    "# Predict values\n",
    "predicted_labels = forward_propagation_sigmoid(X, weights.T, bias)\n",
    "print(\"Target labels:  \", Y)\n",
    "print(\"Predicted label:\", (predicted_labels > 0.5) * 1)"
   ]
  },
  {
   "cell_type": "code",
   "execution_count": 23,
   "id": "8c44d4e8",
   "metadata": {},
   "outputs": [
    {
     "data": {
      "text/plain": [
       "((10, 2), (10,))"
      ]
     },
     "execution_count": 23,
     "metadata": {},
     "output_type": "execute_result"
    }
   ],
   "source": [
    "X.shape, Y.shape"
   ]
  },
  {
   "cell_type": "markdown",
   "id": "d6d4155c",
   "metadata": {},
   "source": [
    "## Gradient Descent: The Batch Update"
   ]
  },
  {
   "cell_type": "code",
   "execution_count": 24,
   "id": "37045036",
   "metadata": {},
   "outputs": [],
   "source": [
    "def calculate_error_batch(y, y_predicted):\n",
    "    loss = np.sum(-y* np.log(y_predicted) - (1-y) * np.log(1- y_predicted))\n",
    "    return loss\n",
    "\n",
    "def gradient_batch(X, Y, Y_predicted):\n",
    "    Error = Y_predicted - Y\n",
    "    dW = np.dot(X.T, Error)\n",
    "    db = np.sum(Error)\n",
    "    return dW, db\n",
    "\n",
    "def train_batch(X, Y, learning_rate, W, b, epochs, losses):\n",
    "    \"\"\"Training the perceptron using batch update\"\"\"\n",
    "    for i in range(epochs): # loop over the total epochs\n",
    "        Y_predicted = forward_propagation_sigmoid(X, W, b)\n",
    "        losses[i,0] = calculate_error_batch(Y, Y_predicted) \n",
    "        dW, db = gradient_batch(X, Y, Y_predicted)\n",
    "        W, b  = update_parameters(W, b, dW, db, learning_rate)\n",
    "    return W, b, losses"
   ]
  },
  {
   "cell_type": "code",
   "execution_count": 25,
   "id": "7fff9078",
   "metadata": {},
   "outputs": [
    {
     "name": "stdout",
     "output_type": "stream",
     "text": [
      "Before training\n",
      "weights: [0. 0.] bias: 0.0\n",
      "Target labels:  [0 0 0 0 0 1 1 1 1 1]\n"
     ]
    }
   ],
   "source": [
    "X = np.array([[2.78, 2.55], [1.46, 2.36], [3.39, 4.40], [1.38, 1.85], [3.06, 3.00], [7.62, 2.75],\n",
    "              [5.33, 2.08], [6.92, 1.77], [8.67, -0.24], [7.67, 3.50]])\n",
    "\n",
    "Y = np.array([0, 0, 0, 0, 0, 1, 1, 1, 1, 1]) # actual label\n",
    "weights = np.array([0.0, 0.0]) # weights of perceptron\n",
    "bias = 0.0 # bias value\n",
    "learning_rate = 0.01 # learning rate\n",
    "epochs = 1000 # set epochs\n",
    "losses = np.zeros((epochs, 1))\n",
    "print(\"Before training\")\n",
    "print(\"weights:\", weights, \"bias:\", bias)\n",
    "print(\"Target labels: \", Y)"
   ]
  },
  {
   "cell_type": "code",
   "execution_count": 26,
   "id": "197f2b70",
   "metadata": {},
   "outputs": [],
   "source": [
    "W, b, losses = train_batch(X, Y, learning_rate, weights, bias, epochs, losses)"
   ]
  },
  {
   "cell_type": "code",
   "execution_count": 27,
   "id": "c02321db",
   "metadata": {},
   "outputs": [
    {
     "data": {
      "image/png": "[encoded data removed]",
      "text/plain": [
       "<Figure size 640x480 with 1 Axes>"
      ]
     },
     "metadata": {},
     "output_type": "display_data"
    }
   ],
   "source": [
    "# Evaluating the performance\n",
    "import matplotlib.pyplot as plt\n",
    "%matplotlib inline\n",
    "\n",
    "plt.figure()\n",
    "plt.plot(losses)\n",
    "plt.xlabel('EPOCHS')\n",
    "plt.ylabel(\"Loss value\")\n",
    "plt.show()\n"
   ]
  },
  {
   "cell_type": "code",
   "execution_count": 28,
   "id": "3b5aaf60",
   "metadata": {},
   "outputs": [
    {
     "name": "stdout",
     "output_type": "stream",
     "text": [
      "\n",
      "After training\n",
      "Weights:  [ 2.21307742 -3.23900781] bias:  -1.2433090808019682\n",
      "Predicted labels:  [0 0 0 0 0 1 1 1 1 1]\n",
      "Target labes:  [0 0 0 0 0 1 1 1 1 1]\n"
     ]
    }
   ],
   "source": [
    "print(\"\\nAfter training\")\n",
    "print(\"Weights: \", W, \"bias: \", b)\n",
    "\n",
    "# Predict value\n",
    "A2 = forward_propagation_sigmoid(X, W, b)\n",
    "pred = (A2 > 0.5)*1\n",
    "\n",
    "print(\"Predicted labels: \", pred)\n",
    "print(\"Target labes: \", Y)"
   ]
  },
  {
   "cell_type": "code",
   "execution_count": null,
   "id": "05eea9f5",
   "metadata": {},
   "outputs": [],
   "source": []
  }
 ],
 "metadata": {
  "kernelspec": {
   "display_name": "Python 3 (ipykernel)",
   "language": "python",
   "name": "python3"
  },
  "language_info": {
   "codemirror_mode": {
    "name": "ipython",
    "version": 3
   },
   "file_extension": ".py",
   "mimetype": "text/x-python",
   "name": "python",
   "nbconvert_exporter": "python",
   "pygments_lexer": "ipython3",
   "version": "3.10.8"
  }
 },
 "nbformat": 4,
 "nbformat_minor": 5
}
